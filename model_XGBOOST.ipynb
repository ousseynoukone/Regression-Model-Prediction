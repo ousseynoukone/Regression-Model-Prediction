{
 "cells": [
  {
   "cell_type": "code",
   "execution_count": 3,
   "id": "437bea88-36ca-4e30-8983-8f378096b900",
   "metadata": {},
   "outputs": [],
   "source": [
    "import pandas as pd\n",
    "\n",
    "#Import DataSets\n",
    "\n",
    "# Read the csv file\n",
    "df = pd.read_csv('data_train.csv')\n",
    "y_test = pd.read_csv('test_competition.csv')\n",
    "\n",
    "\n",
    "Y_train = df[\"default.payment.next.month\"]\n",
    "\n",
    "X_train = df.drop(columns = [\"default.payment.next.month\"])\n",
    "\n",
    "\n"
   ]
  },
  {
   "cell_type": "code",
   "execution_count": 4,
   "id": "9c8aee1d-5919-40aa-9fd1-17393adc6100",
   "metadata": {},
   "outputs": [
    {
     "name": "stdout",
     "output_type": "stream",
     "text": [
      "Loading XGBoostClassifier...\n",
      "Loading GridSearch model...\n",
      "Fitting GridSearch model...\n"
     ]
    },
    {
     "name": "stderr",
     "output_type": "stream",
     "text": [
      "\n",
      "KeyboardInterrupt\n",
      "\n"
     ]
    }
   ],
   "source": [
    "import xgboost as xgb\n",
    "from sklearn.model_selection import GridSearchCV\n",
    "\n",
    "def bestModelFindingWithXGBoost(param_grid, scoring, X_train, Y_train):\n",
    "    # Loading XGBoost model\n",
    "    print(\"Loading XGBoostClassifier...\")\n",
    "    \n",
    "    model = xgb.XGBClassifier(random_state=42)\n",
    "    \n",
    "    print(\"Loading GridSearch model...\")\n",
    "    # Configure GridSearchCV with 5-fold cross-validation\n",
    "    grid_search = GridSearchCV(model, param_grid, cv=5, scoring=scoring, n_jobs=-1)\n",
    "    \n",
    "    print(\"Fitting GridSearch model...\")\n",
    "    # Fit the GridSearch model to find the best hyperparameters\n",
    "    grid_search.fit(X_train, Y_train)\n",
    "    \n",
    "    print(\"GridSearch fitted \")\n",
    "\n",
    "    # Best parameters and best score found\n",
    "    best_params = grid_search.best_params_\n",
    "    best_score = grid_search.best_score_ * 100  # In percentage\n",
    "\n",
    "    print(f\"Best params : {best_params} with the score of : {best_score}\")\n",
    "    \n",
    "    return grid_search.best_estimator_\n",
    "\n",
    "# Define the parameter grid for XGBoost\n",
    "param_grid = {\n",
    "    'max_depth': range(5, 25),  # Test max_depth from 5 to 24\n",
    "    'n_estimators': [100, 200, 300],  # Test different numbers of estimators\n",
    "    'learning_rate': [0.01, 0.1, 0.2],  # Try different learning rates\n",
    "    'subsample': [0.7, 0.8, 0.9, 1.0],  # Test different subsample ratios\n",
    "    'colsample_bytree': [0.7, 0.8, 1.0]  # Test different column sampling rates\n",
    "}\n",
    "\n",
    "# Call the function to find the best model\n",
    "bestModel = bestModelFindingWithXGBoost(param_grid, \"roc_auc\", X_train, Y_train)\n"
   ]
  },
  {
   "cell_type": "code",
   "execution_count": 21,
   "id": "7be8528a-8908-46b8-b051-8e8fad615361",
   "metadata": {},
   "outputs": [
    {
     "name": "stdout",
     "output_type": "stream",
     "text": [
      "Fitting RandomForestClassifier model\n",
      "Performance testing with Cross  Validate...\n",
      "Cross validate Avg Score : 84.06%\n"
     ]
    }
   ],
   "source": [
    "from sklearn.model_selection import cross_validate\n",
    "import numpy as np\n",
    "\n",
    "#Performance testing with Cross  Validate\n",
    "# Fitting the model\n",
    "print(\"Fitting RandomForestClassifier model\")\n",
    "bestModel.fit(X_train, Y_train)\n",
    "\n",
    "scores = cross_validate(bestModel, X_train, Y_train , cv=5)\n",
    "print(\"Performance testing with Cross  Validate...\")\n",
    "\n",
    "# Computing mean score\n",
    "avg_score = np.mean(scores['test_score']) * 100\n",
    "\n",
    "print(f\"Cross validate Avg Score : {avg_score:.2f}%\")"
   ]
  },
  {
   "cell_type": "code",
   "execution_count": null,
   "id": "e1d7174b-2f8b-44e6-93b0-451eaf7999fe",
   "metadata": {},
   "outputs": [],
   "source": [
    "print(\"Predicting...\")\n",
    "predicted_survival = bestModel.predict_proba(y_test)  \n",
    "\n",
    "# print(predicted_survival)\n",
    "print(bestModel.classes_)\n",
    "\n",
    "# Sort by the first column (index 0) in descending order and then select only the first column\n",
    "sorted_arr = predicted_survival[predicted_survival[:, 0].argsort()[::-1], 0]\n",
    "\n",
    "# If y_test contains the PassengerId column, you can combine it with the predictions\n",
    "predicted_df = pd.DataFrame({\n",
    "    'ID': y_test['ID'],  # Get the PassengerId from y_test\n",
    "    'PAYED': sorted_arr  # Add the predicted payment (0 or 1)\n",
    "})\n",
    "\n",
    "predictedIds  = predicted_df.drop(columns = \"PAYED\")\n",
    "\n",
    "print(predicted_df.head(10))\n",
    "\n",
    "print(predictedIds.head(1000))\n",
    "\n"
   ]
  },
  {
   "cell_type": "code",
   "execution_count": null,
   "id": "75a3ae31-207b-4ba1-927f-faf84d736afc",
   "metadata": {},
   "outputs": [],
   "source": []
  }
 ],
 "metadata": {
  "kernelspec": {
   "display_name": "Python 3 (ipykernel)",
   "language": "python",
   "name": "python3"
  },
  "language_info": {
   "codemirror_mode": {
    "name": "ipython",
    "version": 3
   },
   "file_extension": ".py",
   "mimetype": "text/x-python",
   "name": "python",
   "nbconvert_exporter": "python",
   "pygments_lexer": "ipython3",
   "version": "3.12.7"
  }
 },
 "nbformat": 4,
 "nbformat_minor": 5
}
