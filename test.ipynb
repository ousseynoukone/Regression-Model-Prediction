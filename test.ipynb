{
 "cells": [
  {
   "cell_type": "code",
   "execution_count": null,
   "metadata": {},
   "outputs": [],
   "source": [
    "import pandas as pd\n",
    "from sklearn.metrics import accuracy_score, classification_report\n",
    "\n",
    "# Charger les données de test et les prédictions réelles\n",
    "data_test = pd.read_csv(\"data_test.csv\")  # Fichier contenant les vraies cibles\n",
    "toto_predictions = pd.read_csv(\"final (1).csv\")  # Fichier contenant les prédictions générées\n",
    "\n",
    "# Vérifier les colonnes dans data_test\n",
    "print(\"Colonnes dans data_test :\", data_test.columns)\n",
    "print(\"Colonnes dans toto.csv :\", toto_predictions.columns)\n",
    "\n",
    "# Assurer que le fichier toto.csv a les bonnes colonnes\n",
    "# Il devrait avoir 'ID' et 'default.probability' pour faire la fusion\n",
    "# Renommer la colonne de probabilité si nécessaire\n",
    "toto_predictions.rename(columns={'default.probability': 'predicted_probability'}, inplace=True)\n",
    "\n",
    "# Fusionner les deux jeux de données sur la colonne ID\n",
    "merged_data = pd.merge(data_test, toto_predictions[['ID', 'predicted_probability']], on='ID')\n",
    "\n",
    "# Calculer la classification binaire basée sur un seuil (ex: 0.5)\n",
    "merged_data['predicted_default'] = (merged_data['predicted_probability'] > 0.5).astype(int)\n",
    "\n",
    "# Calculer le score basé sur les vraies cibles\n",
    "score = accuracy_score(merged_data['default.payment.next.month'], merged_data['predicted_default'])\n",
    "print(f\"Accuracy Score : {score:.4f}\")\n",
    "\n",
    "# Afficher le rapport de classification\n",
    "print(classification_report(merged_data['default.payment.next.month'], merged_data['predicted_default']))"
   ]
  }
 ],
 "metadata": {
  "kernelspec": {
   "display_name": "base",
   "language": "python",
   "name": "python3"
  },
  "language_info": {
   "name": "python",
   "version": "3.12.7"
  }
 },
 "nbformat": 4,
 "nbformat_minor": 2
}
